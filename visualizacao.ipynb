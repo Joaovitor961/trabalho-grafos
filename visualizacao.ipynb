{
 "cells": [
  {
   "cell_type": "code",
   "execution_count": 1,
   "id": "80f6bfa5",
   "metadata": {},
   "outputs": [
    {
     "name": "stdout",
     "output_type": "stream",
     "text": [
      "Estatísticas do Grafo:\n",
      "Quantidade de vértices: 134\n",
      "Quantidade de arestas: 6\n",
      "Quantidade de arcos: 229\n",
      "Quantidade de vértices requeridos: 65\n",
      "Quantidade de arestas requeridas: 6\n",
      "Quantidade de arcos requeridos: 11\n",
      "Densidade do grafo: 0.013185949949500618\n",
      "Componentes conectados: 66\n",
      "Grau mínimo dos vértices: 3\n",
      "Grau máximo dos vértices: 12\n",
      "Caminho médio: 123.46099744245524\n",
      "Diâmetro: 301\n"
     ]
    }
   ],
   "source": [
    "from multigrafo import Multigrafo\n",
    "\n",
    "caminho = \"./selected_instances/CBMix11.dat\"  # ou o caminho completo do arquivo\n",
    "g = Multigrafo()\n",
    "g.carregar_de_arquivo(caminho)\n",
    "\n",
    "estatisticas = g.estatisticas()\n",
    "print(\"Estatísticas do Grafo:\")\n",
    "for nome, valor in estatisticas.items():\n",
    "    print(f\"{nome}: {valor}\")\n"
   ]
  }
 ],
 "metadata": {
  "kernelspec": {
   "display_name": "Python 3",
   "language": "python",
   "name": "python3"
  },
  "language_info": {
   "codemirror_mode": {
    "name": "ipython",
    "version": 3
   },
   "file_extension": ".py",
   "mimetype": "text/x-python",
   "name": "python",
   "nbconvert_exporter": "python",
   "pygments_lexer": "ipython3",
   "version": "3.13.2"
  }
 },
 "nbformat": 4,
 "nbformat_minor": 5
}
