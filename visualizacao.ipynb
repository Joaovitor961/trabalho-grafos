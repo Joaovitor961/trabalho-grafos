{
 "cells": [
  {
   "cell_type": "code",
   "execution_count": 7,
   "id": "80f6bfa5",
   "metadata": {},
   "outputs": [
    {
     "name": "stdout",
     "output_type": "stream",
     "text": [
      "Vértices:\n",
      "   Vértice  Demanda  Obrigatório\n",
      "0        1        0        False\n",
      "1       N9        2         True\n",
      "2        5        0        False\n",
      "3        7        0        False\n",
      "4      N12        1         True\n",
      "5       N3        1         True\n",
      "6       N7        1         True\n",
      "7     NrE2        0        False\n",
      "8        8        0        False\n",
      "9        3        0        False\n",
      "10      11        0        False\n",
      "11      N6        1         True\n",
      "12       9        0        False\n",
      "13       4        0        False\n",
      "14      10        0        False\n",
      "15       6        0        False\n",
      "16    NrE1        0        False\n",
      "17       2        0        False\n",
      "18      N5        1         True\n",
      "19      12        0        False\n",
      "Arestas:\n",
      "  Origem Destino  Custo  Demanda  Obrigatória\n",
      "0      6      12      3        1         True\n",
      "1      3       5      5        1         True\n",
      "2      1       4     17        1         True\n",
      "3   NrE1       1      7        0        False\n",
      "4   NrE2       6      7        0        False\n",
      "Estatísticas do Grafo:\n",
      "Quantidade de vértices: 20\n",
      "Quantidade de arestas: 5\n",
      "Quantidade de arcos: 34\n",
      "Quantidade de vértices requeridos: 6\n",
      "Quantidade de arestas requeridas: 3\n",
      "Quantidade de arcos requeridos: 12\n",
      "Densidade do grafo: 0.10263157894736842\n",
      "Componentes conectados: 7\n",
      "Grau mínimo dos vértices: 2\n",
      "Grau máximo dos vértices: 10\n",
      "Caminho médio: 20.417582417582416\n",
      "Diâmetro: 38\n"
     ]
    }
   ],
   "source": [
    "from multigrafo import Multigrafo\n",
    "\n",
    "caminho = \"./selected_instances/MGGDB_0.25_1.dat\"  # ou o caminho completo do arquivo\n",
    "g = Multigrafo()\n",
    "g.carregar_de_arquivo(caminho)\n",
    "\n",
    "estatisticas = g.estatisticas()\n",
    "df_estatisticas = g.estatisticas_as_dataframe()\n",
    "df_vertices = g.vertices_as_dataframe()\n",
    "df_arestas = g.arestas_as_dataframe()\n",
    "\n",
    "print(\"Vértices:\")\n",
    "print(df_vertices)\n",
    "\n",
    "print(\"Arestas:\")\n",
    "print(df_arestas)\n",
    "\n",
    "print(\"Estatísticas do Grafo:\")\n",
    "for nome, valor in estatisticas.items():\n",
    "    print(f\"{nome}: {valor}\")\n"
   ]
  }
 ],
 "metadata": {
  "kernelspec": {
   "display_name": "base",
   "language": "python",
   "name": "python3"
  },
  "language_info": {
   "codemirror_mode": {
    "name": "ipython",
    "version": 3
   },
   "file_extension": ".py",
   "mimetype": "text/x-python",
   "name": "python",
   "nbconvert_exporter": "python",
   "pygments_lexer": "ipython3",
   "version": "3.12.7"
  }
 },
 "nbformat": 4,
 "nbformat_minor": 5
}
